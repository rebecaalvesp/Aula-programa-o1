{
  "nbformat": 4,
  "nbformat_minor": 0,
  "metadata": {
    "colab": {
      "provenance": [],
      "authorship_tag": "ABX9TyMv0DdHMU8EJfo3dFjbMob4",
      "include_colab_link": true
    },
    "kernelspec": {
      "name": "python3",
      "display_name": "Python 3"
    },
    "language_info": {
      "name": "python"
    }
  },
  "cells": [
    {
      "cell_type": "markdown",
      "metadata": {
        "id": "view-in-github",
        "colab_type": "text"
      },
      "source": [
        "<a href=\"https://colab.research.google.com/github/rebecaalvesp/Aula-programa-o1/blob/main/Untitled7.ipynb\" target=\"_parent\"><img src=\"https://colab.research.google.com/assets/colab-badge.svg\" alt=\"Open In Colab\"/></a>"
      ]
    },
    {
      "cell_type": "code",
      "execution_count": null,
      "metadata": {
        "id": "V5dwkmUZ5Nz1"
      },
      "outputs": [],
      "source": [
        "#Jogo adivinhe o número\n",
        "#Desenvolva um jogo de adivinhação que siga as seguintes regras:\n",
        "#1 - O jogo gera, aleatoriamente, um número secreto do tipo inteiro entre 0 e 100\n",
        "#2 - Solicita ao usuário que tente adivinhar o número entre 0 e 100.\n",
        "#3 - Um laço verifica se o número digitado é igual ao número secreto\n",
        "#4 - Se o número digitado for menor que o número secreto, o valor mínimo passa a ser o número digitado\n",
        "#5 - Se o número digitado for maior que o número secreto, o valor máximo passa a ser o número digitado\n",
        "#6 - se o jogador acertar, recebe uma mensagem de parabéns e o número de tentativas que foi necessária.\n",
        "###Para gerar inteiros aleatórios, importe from random import * e use a função randint()\n",
        "     "
      ]
    },
    {
      "cell_type": "code",
      "source": [
        "100\n",
        "import random\n",
        "num = random.randrange(100)\n",
        "minimo = 0\n",
        "maximo = 100\n",
        "pitaco = int(input(f'Chute um numero entre {minimo} e {maximo}'))\n",
        "\n",
        "while(num != pitaco):\n",
        "  if(pitaco > num):\n",
        "   maximo = pitaco\n",
        "  else:\n",
        "    minimo = pitaco\n",
        "    pitaco = int(input(f'Chute um numero {minimo} e {maximo}'))\n",
        "cont+=1\n",
        "print(f'ACERTOU, MIZERAVE! {cont} tentativas!')  "
      ],
      "metadata": {
        "colab": {
          "base_uri": "https://localhost:8080/"
        },
        "id": "UlgjC4il5TGI",
        "outputId": "5c58a8d6-098c-48f4-a47c-1d30914b4a2e"
      },
      "execution_count": null,
      "outputs": [
        {
          "name": "stdout",
          "output_type": "stream",
          "text": [
            "Chute um numero entre 0 e 10058\n"
          ]
        }
      ]
    },
    {
      "cell_type": "code",
      "source": [
        "#Declaração da função\n",
        "def primeiraFuncao():\n",
        "  print('Minha primeira função, ó')\n",
        "\n",
        "  #Chamado função\n",
        "  primeiraFuncao()"
      ],
      "metadata": {
        "id": "wfeIUJDK5cGp"
      },
      "execution_count": null,
      "outputs": []
    },
    {
      "cell_type": "code",
      "source": [
        "def pronomeTratam(pronome):\n",
        "  print(pronome, \"Rebeca\")"
      ],
      "metadata": {
        "id": "VMHypiKp5tRn"
      },
      "execution_count": null,
      "outputs": []
    },
    {
      "cell_type": "code",
      "source": [
        "pronomeTratam('Doutora')\n",
        "pronomeTratam('Ilmo')\n",
        "pronomeTratam('Senhorita')"
      ],
      "metadata": {
        "colab": {
          "base_uri": "https://localhost:8080/"
        },
        "id": "vbEm5iU751Du",
        "outputId": "d3a4b68d-6a04-4970-9f51-b8e46252744e"
      },
      "execution_count": null,
      "outputs": [
        {
          "output_type": "stream",
          "name": "stdout",
          "text": [
            "Doutora Rebeca\n",
            "Ilmo Rebeca\n",
            "Senhorita Rebeca\n"
          ]
        }
      ]
    },
    {
      "cell_type": "code",
      "source": [
        "#Uma função deve ser chamada com o número certinho\n",
        "\n",
        "def boasVindas(nome,cargo):\n",
        "  print('Olá,'+ cargo + ' '+ nome)"
      ],
      "metadata": {
        "id": "UVlMUI_S6ELl"
      },
      "execution_count": null,
      "outputs": []
    },
    {
      "cell_type": "code",
      "source": [
        "\n",
        "boasVindas( 'Amaralina', 'Engenheira')\n",
        "boasVindas('Jorge', 'Carimbador')\n",
        "boasVindas('Maria', 'Sargento')\n",
        "#Experimente passar apenas um dos parametros"
      ],
      "metadata": {
        "colab": {
          "base_uri": "https://localhost:8080/"
        },
        "id": "ZKqH4V706kwG",
        "outputId": "a5c7f252-f261-4d41-cfc2-00568b228477"
      },
      "execution_count": 16,
      "outputs": [
        {
          "output_type": "stream",
          "name": "stdout",
          "text": [
            "Olá,Engenheira Amaralina\n",
            "Olá,Carimbador Jorge\n",
            "Olá,Sargento Maria\n"
          ]
        }
      ]
    },
    {
      "cell_type": "code",
      "source": [
        "def somaNotas(*notas):\n",
        "  soma = 0\n",
        "  for nota in notas:\n",
        "      soma += nota\n",
        "  print(soma)"
      ],
      "metadata": {
        "id": "Z6KQH2J19lcc"
      },
      "execution_count": 25,
      "outputs": []
    },
    {
      "cell_type": "code",
      "source": [
        "somaNotas(8, 5, 7, 2, 10)"
      ],
      "metadata": {
        "colab": {
          "base_uri": "https://localhost:8080/"
        },
        "id": "VcupoiEI92Rx",
        "outputId": "deede923-ec14-4e31-b60d-ddae5668ed2a"
      },
      "execution_count": 27,
      "outputs": [
        {
          "output_type": "stream",
          "name": "stdout",
          "text": [
            "32\n"
          ]
        }
      ]
    },
    {
      "cell_type": "code",
      "source": [
        "def media(*notas):\n",
        "  soma = 0\n",
        "  for nota in notas:\n",
        "      soma += nota\n",
        "  print(soma / len(notas))"
      ],
      "metadata": {
        "id": "dLHt0FC-_yJk"
      },
      "execution_count": 29,
      "outputs": []
    },
    {
      "cell_type": "code",
      "source": [
        "media(8, 5, 3, 7, 2, 10, 4)"
      ],
      "metadata": {
        "colab": {
          "base_uri": "https://localhost:8080/"
        },
        "id": "B7eZE_R-AC83",
        "outputId": "903d554c-c303-4a41-e2f1-f20108706e6c"
      },
      "execution_count": 30,
      "outputs": [
        {
          "output_type": "stream",
          "name": "stdout",
          "text": [
            "5.571428571428571\n"
          ]
        }
      ]
    },
    {
      "cell_type": "code",
      "source": [
        "#Valor de parâmetro padrão\n",
        "def nacionalidade(country = 'Cuba'):\n",
        "  print('Eu nasci no :'+ country)"
      ],
      "metadata": {
        "id": "bv6SkGNgANfL"
      },
      "execution_count": 36,
      "outputs": []
    },
    {
      "cell_type": "code",
      "source": [
        "nacionalidade('Brasil')\n",
        "nacionalidade('França')\n",
        "nacionalidade('Vietnã')\n",
        "nacionalidade()"
      ],
      "metadata": {
        "colab": {
          "base_uri": "https://localhost:8080/"
        },
        "id": "i2regl8UBCC3",
        "outputId": "307bcf60-e15a-4b33-b95e-e2b13f63519c"
      },
      "execution_count": 37,
      "outputs": [
        {
          "output_type": "stream",
          "name": "stdout",
          "text": [
            "Eu nasci no :Brasil\n",
            "Eu nasci no :França\n",
            "Eu nasci no :Vietnã\n",
            "Eu nasci no :Cuba\n"
          ]
        }
      ]
    },
    {
      "cell_type": "code",
      "source": [
        "def imc(peso, altura):\n",
        "  return peso/altura**2"
      ],
      "metadata": {
        "id": "CAGVmu7zBQF8"
      },
      "execution_count": 38,
      "outputs": []
    },
    {
      "cell_type": "code",
      "source": [
        "def situacaoPeso(imc):\n",
        "  if(imc < 18.5):\n",
        "    print('Abaixo do peso normal')\n",
        "  elif(imc < 24.9):\n",
        "    print('Peso normal')\n",
        "  else:\n",
        "    print('Obesidade')"
      ],
      "metadata": {
        "id": "SJPNPCw0DRMk"
      },
      "execution_count": 40,
      "outputs": []
    },
    {
      "cell_type": "code",
      "source": [
        "situacaoPeso(imc(48, 1.59))"
      ],
      "metadata": {
        "colab": {
          "base_uri": "https://localhost:8080/"
        },
        "id": "d-jiC2gPD8hT",
        "outputId": "9312bbd6-7ef9-4160-acfb-191893949506"
      },
      "execution_count": 43,
      "outputs": [
        {
          "output_type": "stream",
          "name": "stdout",
          "text": [
            "Peso normal\n"
          ]
        }
      ]
    },
    {
      "cell_type": "code",
      "source": [
        "#Soma\n",
        "a = 40\n",
        "b = 58\n",
        "def soma(a, b):\n",
        "  return a + b\n",
        "#Subtracao\n",
        "def subtracao(a, b):\n",
        "  return a - b\n",
        "#Multiplicação\n",
        "def vezes(a, b):\n",
        "  return a * b\n",
        "#Divisão\n",
        "def divisao(a, b):\n",
        "  return a / b"
      ],
      "metadata": {
        "id": "juUqpuCmEFYp"
      },
      "execution_count": null,
      "outputs": []
    },
    {
      "cell_type": "code",
      "source": [],
      "metadata": {
        "id": "zlmoIDU5IeMk"
      },
      "execution_count": null,
      "outputs": []
    },
    {
      "cell_type": "code",
      "source": [],
      "metadata": {
        "id": "cS-yi4GLHjBV"
      },
      "execution_count": null,
      "outputs": []
    }
  ]
}