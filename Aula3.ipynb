{
  "nbformat": 4,
  "nbformat_minor": 0,
  "metadata": {
    "colab": {
      "provenance": [],
      "authorship_tag": "ABX9TyNXcVcNTlPx4nLjsdQQUvqu",
      "include_colab_link": true
    },
    "kernelspec": {
      "name": "python3",
      "display_name": "Python 3"
    },
    "language_info": {
      "name": "python"
    }
  },
  "cells": [
    {
      "cell_type": "markdown",
      "metadata": {
        "id": "view-in-github",
        "colab_type": "text"
      },
      "source": [
        "<a href=\"https://colab.research.google.com/github/rebecaalvesp/Aula-programa-o1/blob/main/Aula3.ipynb\" target=\"_parent\"><img src=\"https://colab.research.google.com/assets/colab-badge.svg\" alt=\"Open In Colab\"/></a>"
      ]
    },
    {
      "cell_type": "code",
      "execution_count": 3,
      "metadata": {
        "colab": {
          "base_uri": "https://localhost:8080/"
        },
        "id": "SfEL6YSzkksf",
        "outputId": "bc191f1d-ea34-4cd0-d3ec-a19ce8f9431c"
      },
      "outputs": [
        {
          "output_type": "stream",
          "name": "stdout",
          "text": [
            "Meu nome é Rebeca,minha idade é: 22\n"
          ]
        }
      ],
      "source": [
        "idade = 22\n",
        "print(\"Meu nome é Rebeca,minha idade é:\",idade)"
      ]
    },
    {
      "cell_type": "code",
      "source": [
        "a = 90 \n",
        "b = 42\n",
        "\n",
        "print(a+b)\n",
        "print(a-b)\n",
        "print(a*b)\n",
        "print(a/b)\n",
        "print(a%b)"
      ],
      "metadata": {
        "colab": {
          "base_uri": "https://localhost:8080/"
        },
        "id": "liMRA4rrlag7",
        "outputId": "554bef6e-d228-47d3-b9eb-f9ea0de15fbb"
      },
      "execution_count": 6,
      "outputs": [
        {
          "output_type": "stream",
          "name": "stdout",
          "text": [
            "132\n",
            "48\n",
            "3780\n",
            "2.142857142857143\n",
            "6\n"
          ]
        }
      ]
    },
    {
      "cell_type": "code",
      "source": [
        "nome = input('Digite seu nome:')\n",
        "print('ola rebeca')"
      ],
      "metadata": {
        "colab": {
          "base_uri": "https://localhost:8080/"
        },
        "id": "8nTpE_PbnCq_",
        "outputId": "7723bc8a-6087-4e5d-84f1-a93422ba0433"
      },
      "execution_count": 8,
      "outputs": [
        {
          "output_type": "stream",
          "name": "stdout",
          "text": [
            "Digite seu nome:rebeca\n",
            "ola rebeca\n"
          ]
        }
      ]
    },
    {
      "cell_type": "code",
      "source": [
        "#Código para dizer a idade da pessoa\n",
        "anoNascim = int(input('Digite o ano de nascimento!'))\n",
        "print('Sua idade é: ',2023-anoNascim)"
      ],
      "metadata": {
        "colab": {
          "base_uri": "https://localhost:8080/"
        },
        "id": "s6uM8TXBonZQ",
        "outputId": "3df0bca9-d94a-4c78-8be9-11be437fe52f"
      },
      "execution_count": 10,
      "outputs": [
        {
          "output_type": "stream",
          "name": "stdout",
          "text": [
            "Digite o ano de nascimento!2000\n",
            "Sua idade é:  23\n"
          ]
        }
      ]
    },
    {
      "cell_type": "code",
      "source": [
        "#Solicita a altura e o peso de alguém, e retorna o IMC\n",
        "#IMC = peso / altura**2\n",
        "peso= float(input('Digite o peso!'))\n",
        "altura= float(input('Digite a altura!'))\n",
        "imc = peso/altura**2\n",
        "print('O IMC é:',imc)"
      ],
      "metadata": {
        "colab": {
          "base_uri": "https://localhost:8080/"
        },
        "id": "gYugMNCkpmx5",
        "outputId": "bef723b6-5232-406e-fcb4-998338189f56"
      },
      "execution_count": 15,
      "outputs": [
        {
          "output_type": "stream",
          "name": "stdout",
          "text": [
            "Digite o peso!59\n",
            "Digite a altura!1.59\n",
            "O IMC é: 23.337684427040067\n"
          ]
        }
      ]
    },
    {
      "cell_type": "code",
      "source": [
        "#Verificar se um número é par\n",
        "num = int(input('Digite um número:'))\n",
        "if(num%2 == 0):\n",
        "  print('O número é par')"
      ],
      "metadata": {
        "colab": {
          "base_uri": "https://localhost:8080/"
        },
        "id": "DPr-Cuv3uSIW",
        "outputId": "3e618f19-042d-4e27-e2ab-a1673c58d156"
      },
      "execution_count": 19,
      "outputs": [
        {
          "output_type": "stream",
          "name": "stdout",
          "text": [
            "Digite um número:52\n",
            "O número é par\n"
          ]
        }
      ]
    },
    {
      "cell_type": "code",
      "source": [
        "num = int(input('Digite um número:'))\n",
        "if(num%2 == 0):\n",
        "  print('O número é par')\n",
        "\n",
        "else:\n",
        "  print('O numero é impar')"
      ],
      "metadata": {
        "colab": {
          "base_uri": "https://localhost:8080/"
        },
        "id": "AD-jWvVSw4Lf",
        "outputId": "011112b1-a7a3-4343-bb0f-47d726527f84"
      },
      "execution_count": 24,
      "outputs": [
        {
          "output_type": "stream",
          "name": "stdout",
          "text": [
            "Digite um número:7\n",
            "O numero é impar\n"
          ]
        }
      ]
    },
    {
      "cell_type": "code",
      "source": [
        "#Em um campeonato de MMA, tem três categorias por peso\n",
        "#Galo até 70kg\n",
        "#médio até 80kg\n",
        "#meio pesado até 90kg\n",
        "peso = float(input('Digite o peso do atleta:'))\n",
        "if(peso <=70 ):\n",
        "  print('Galo')\n",
        "elif(peso <=80 ):\n",
        "  print('Medio')\n",
        "else:\n",
        "  print('Meio pesado')"
      ],
      "metadata": {
        "colab": {
          "base_uri": "https://localhost:8080/"
        },
        "id": "3tdPYJzYyZAh",
        "outputId": "b6b205f6-e558-496a-ea43-7176adc6c7be"
      },
      "execution_count": 43,
      "outputs": [
        {
          "output_type": "stream",
          "name": "stdout",
          "text": [
            "Digite o peso do atleta:71\n",
            "Medio\n"
          ]
        }
      ]
    },
    {
      "cell_type": "code",
      "source": [
        "IMC = float(input('Categoria do IMC:'))\n",
        "if(imc  < 18.5):\n",
        "  print('Abaixo do peso')\n",
        "elif(imc < 25):\n",
        "  print('Peso normal')\n",
        "elif(imc < 30):\n",
        "  print('Obesidade classe1')\n",
        "elif(imc < 35):\n",
        "  print('Obesidade classe2')\n",
        "elif(imc < 40):\n",
        "  print('Obesidade classe3')\n",
        "else:\n",
        "  print('Obeso3')\n",
        "print('O IMC do paciente é:',round(imc,2))"
      ],
      "metadata": {
        "colab": {
          "base_uri": "https://localhost:8080/"
        },
        "id": "bbaFDjME1s40",
        "outputId": "31d00747-3d6c-4468-939f-e27c4d89c7d7"
      },
      "execution_count": 51,
      "outputs": [
        {
          "output_type": "stream",
          "name": "stdout",
          "text": [
            "Categoria do IMC:18\n",
            "Peso normal\n",
            "O IMC do paciente é: 23.34\n"
          ]
        }
      ]
    }
  ]
}