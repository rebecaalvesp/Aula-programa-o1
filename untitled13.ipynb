{
  "nbformat": 4,
  "nbformat_minor": 0,
  "metadata": {
    "colab": {
      "provenance": [],
      "authorship_tag": "ABX9TyNAs/ZbrNULiYaF3PzB0P6q",
      "include_colab_link": true
    },
    "kernelspec": {
      "name": "python3",
      "display_name": "Python 3"
    },
    "language_info": {
      "name": "python"
    }
  },
  "cells": [
    {
      "cell_type": "markdown",
      "metadata": {
        "id": "view-in-github",
        "colab_type": "text"
      },
      "source": [
        "<a href=\"https://colab.research.google.com/github/rebecaalvesp/Aula-programa-o1/blob/main/untitled13.ipynb\" target=\"_parent\"><img src=\"https://colab.research.google.com/assets/colab-badge.svg\" alt=\"Open In Colab\"/></a>"
      ]
    },
    {
      "cell_type": "code",
      "execution_count": null,
      "metadata": {
        "colab": {
          "base_uri": "https://localhost:8080/"
        },
        "id": "Sbn1pz-pEybU",
        "outputId": "a39b6e95-e682-439f-a1b2-509b54db056a"
      },
      "outputs": [
        {
          "output_type": "execute_result",
          "data": {
            "text/plain": [
              "{'Andre': 8.5,\n",
              " 'Ana': 7.0,\n",
              " 'Chico': 6.5,\n",
              " 'Nubia': 10,\n",
              " 'Luana': 8,\n",
              " 'Julio': 5.5,\n",
              " 'Aristides': 6.0,\n",
              " 'Sebastiana': 9.5,\n",
              " 'Camila': 10}"
            ]
          },
          "metadata": {},
          "execution_count": 5
        }
      ],
      "source": [
        "provaA = {'Andre': 8.5, 'Ana': 7.0, 'Chico': 6.5, 'Nubia':10, 'Luana': 8}\n",
        "provaB = {'Julio': 5.5, 'Aristides': 6.0, 'Sebastiana': 9.5, 'Camila': 10}\n",
        "\n",
        "resultado_final = {} #novo dicionario resultado_final\n",
        "resultado_final.update(provaA)\n",
        "resultado_final.update(provaB)\n",
        "\n",
        "resultado_final"
      ]
    },
    {
      "cell_type": "code",
      "source": [
        "#Ordenação\n",
        "sorted(resultado_final, key= resultado_final.get, reverse= True)"
      ],
      "metadata": {
        "colab": {
          "base_uri": "https://localhost:8080/"
        },
        "id": "eTxsOrTMIqSE",
        "outputId": "b04d2eae-cd60-4d5e-b377-f520954a4b58"
      },
      "execution_count": null,
      "outputs": [
        {
          "output_type": "execute_result",
          "data": {
            "text/plain": [
              "['Nubia',\n",
              " 'Camila',\n",
              " 'Sebastiana',\n",
              " 'Andre',\n",
              " 'Luana',\n",
              " 'Ana',\n",
              " 'Chico',\n",
              " 'Aristides',\n",
              " 'Julio']"
            ]
          },
          "metadata": {},
          "execution_count": 9
        }
      ]
    },
    {
      "cell_type": "code",
      "source": [
        "sorted(resultado_final.items(), key = lambda x: x[1],reverse=True) #Ordenação crescente"
      ],
      "metadata": {
        "colab": {
          "base_uri": "https://localhost:8080/"
        },
        "id": "Ah0_CNBUKO6r",
        "outputId": "9d77d400-e426-4e71-9446-b4630b12354a"
      },
      "execution_count": null,
      "outputs": [
        {
          "output_type": "execute_result",
          "data": {
            "text/plain": [
              "[('Nubia', 10),\n",
              " ('Camila', 10),\n",
              " ('Sebastiana', 9.5),\n",
              " ('Andre', 8.5),\n",
              " ('Luana', 8),\n",
              " ('Ana', 7.0),\n",
              " ('Chico', 6.5),\n",
              " ('Aristides', 6.0),\n",
              " ('Julio', 5.5)]"
            ]
          },
          "metadata": {},
          "execution_count": 13
        }
      ]
    },
    {
      "cell_type": "code",
      "source": [
        "listaCandidatos= list(resultado_final.keys())\n",
        "listaCandidatos"
      ],
      "metadata": {
        "colab": {
          "base_uri": "https://localhost:8080/"
        },
        "id": "iC8DrRX3LMxx",
        "outputId": "31d7b6d9-960f-43c1-b597-47baa88fdd39"
      },
      "execution_count": null,
      "outputs": [
        {
          "output_type": "execute_result",
          "data": {
            "text/plain": [
              "['Andre',\n",
              " 'Ana',\n",
              " 'Chico',\n",
              " 'Nubia',\n",
              " 'Luana',\n",
              " 'Julio',\n",
              " 'Aristides',\n",
              " 'Sebastiana',\n",
              " 'Camila']"
            ]
          },
          "metadata": {},
          "execution_count": 14
        }
      ]
    },
    {
      "cell_type": "code",
      "source": [
        "listaNotas= list(resultado_final.values())\n",
        "listaNotas"
      ],
      "metadata": {
        "colab": {
          "base_uri": "https://localhost:8080/"
        },
        "id": "QX7anDasMPAk",
        "outputId": "ac041a93-bef0-4f3f-e25b-eef3fba61dce"
      },
      "execution_count": null,
      "outputs": [
        {
          "output_type": "execute_result",
          "data": {
            "text/plain": [
              "[8.5, 7.0, 6.5, 10, 8, 5.5, 6.0, 9.5, 10]"
            ]
          },
          "metadata": {},
          "execution_count": 16
        }
      ]
    },
    {
      "cell_type": "code",
      "source": [
        "resultado_final.get('Rebeca', 'Candidato não existe')"
      ],
      "metadata": {
        "colab": {
          "base_uri": "https://localhost:8080/",
          "height": 35
        },
        "id": "ID_oqd0fN6ac",
        "outputId": "8ea97e89-634f-4548-d289-b167a87d3997"
      },
      "execution_count": null,
      "outputs": [
        {
          "output_type": "execute_result",
          "data": {
            "text/plain": [
              "'Candidato não existe'"
            ],
            "application/vnd.google.colaboratory.intrinsic+json": {
              "type": "string"
            }
          },
          "metadata": {},
          "execution_count": 18
        }
      ]
    },
    {
      "cell_type": "code",
      "source": [
        "def consultaNota (dicionario, nome):\n",
        "  return resultado_final.get(nome, 'Candidato não existe')\n",
        "\n",
        "consultaNota(resultado_final,'Rebeca')"
      ],
      "metadata": {
        "colab": {
          "base_uri": "https://localhost:8080/",
          "height": 35
        },
        "id": "2-jIXJdSRmLY",
        "outputId": "f3f7e28e-60f4-45e3-b8ad-dac715bf0dbc"
      },
      "execution_count": null,
      "outputs": [
        {
          "output_type": "execute_result",
          "data": {
            "text/plain": [
              "'Candidato não existe'"
            ],
            "application/vnd.google.colaboratory.intrinsic+json": {
              "type": "string"
            }
          },
          "metadata": {},
          "execution_count": 19
        }
      ]
    }
  ]
}