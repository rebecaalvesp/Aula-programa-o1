{
  "nbformat": 4,
  "nbformat_minor": 0,
  "metadata": {
    "colab": {
      "provenance": [],
      "authorship_tag": "ABX9TyM6S+aYSpdKqITrpLEmF0PP",
      "include_colab_link": true
    },
    "kernelspec": {
      "name": "python3",
      "display_name": "Python 3"
    },
    "language_info": {
      "name": "python"
    }
  },
  "cells": [
    {
      "cell_type": "markdown",
      "metadata": {
        "id": "view-in-github",
        "colab_type": "text"
      },
      "source": [
        "<a href=\"https://colab.research.google.com/github/rebecaalvesp/Aula-programa-o1/blob/main/auladicionario.ipynb\" target=\"_parent\"><img src=\"https://colab.research.google.com/assets/colab-badge.svg\" alt=\"Open In Colab\"/></a>"
      ]
    },
    {
      "cell_type": "code",
      "execution_count": 1,
      "metadata": {
        "id": "kRBTtIrrHbI6"
      },
      "outputs": [],
      "source": [
        "#Criando dicionários\n",
        "#Os dicionários são definidos utilizando chaves {} \n",
        "#e os pares chave-valor são separados por dois pontos (:)\n"
      ]
    },
    {
      "cell_type": "code",
      "source": [
        "#CRUD\n",
        "#C- CREATE\n",
        "#R- RECOVERY\n",
        "#U- UPDATE\n",
        "#D- DELETE"
      ],
      "metadata": {
        "id": "golk7OIJHcQb"
      },
      "execution_count": 2,
      "outputs": []
    },
    {
      "cell_type": "code",
      "source": [
        "#Criando dicionários\n",
        "#Os dicionários são definidos utilizando chaves {} \n",
        "#e os pares chave-valor são separados por dois pontos (:)\n",
        "\n",
        "#Contatos\n",
        "contatos = {\n",
        "    'Ostervaldo' : 'oster@email.com',\n",
        "    'Maristênio' : 'marist@email.com',\n",
        "    'Leroiane' : 'lero@email.com', \n",
        "    'Jozezin' : ['zezin@exemplo.com', 'zemane@xemple.com']\n",
        "}\n",
        "\n",
        "contatos\n"
      ],
      "metadata": {
        "colab": {
          "base_uri": "https://localhost:8080/"
        },
        "id": "pNB1K7R2K_4_",
        "outputId": "f8812447-b1e3-4c73-941d-d22167061b7f"
      },
      "execution_count": 9,
      "outputs": [
        {
          "output_type": "execute_result",
          "data": {
            "text/plain": [
              "{'Ostervaldo': 'oster@email.com',\n",
              " 'Maristênio': 'marist@email.com',\n",
              " 'Leroiane': 'lero@email.com',\n",
              " 'Jozezin': ['zezin@exemplo.com', 'zemane@xemple.com']}"
            ]
          },
          "metadata": {},
          "execution_count": 9
        }
      ]
    },
    {
      "cell_type": "code",
      "source": [
        "#Adicionar\n",
        "contatos['Evilásio'] = 'evi@exemplo.com'\n",
        "\n",
        "contatos"
      ],
      "metadata": {
        "colab": {
          "base_uri": "https://localhost:8080/"
        },
        "id": "7ByCKoKrK28o",
        "outputId": "ea0536a0-6c8d-48e0-800b-e06c82dbccab"
      },
      "execution_count": 10,
      "outputs": [
        {
          "output_type": "execute_result",
          "data": {
            "text/plain": [
              "{'Ostervaldo': 'oster@email.com',\n",
              " 'Maristênio': 'marist@email.com',\n",
              " 'Leroiane': 'lero@email.com',\n",
              " 'Jozezin': ['zezin@exemplo.com', 'zemane@xemple.com'],\n",
              " 'Evilásio': 'evi@exemplo.com'}"
            ]
          },
          "metadata": {},
          "execution_count": 10
        }
      ]
    },
    {
      "cell_type": "code",
      "source": [
        "#Criar\n",
        "luchadores = [\n",
        "    {\n",
        "        \"nome\": 'Israel Adesanya',\n",
        "        \"categoria\" : \"Meio médio\",\n",
        "        \"envergadura\" : 2\n",
        "    },\n",
        "      {\n",
        "          \"nome\" : \"Luana Pinheiro\",\n",
        "          \"categoria\" : \"Palha\",\n",
        "          \"envergadura\" : 1.6\n",
        "      }\n",
        "]"
      ],
      "metadata": {
        "id": "-PJxnYJCHu-Q"
      },
      "execution_count": 4,
      "outputs": []
    },
    {
      "cell_type": "code",
      "source": [
        "a = {'zé': 'ze@mailzemplo.com', \n",
        "     'gardenia':'gardenia@exemplo.com',\n",
        "     'Aloisio' : 'aloisio@exml.com'}\n",
        "\n",
        "contatos.update(a)\n",
        "\n",
        "contatos"
      ],
      "metadata": {
        "colab": {
          "base_uri": "https://localhost:8080/"
        },
        "id": "pAe2m-lRI9Tw",
        "outputId": "33fff7ce-3c8d-4485-b992-e1f80ed2155e"
      },
      "execution_count": 12,
      "outputs": [
        {
          "output_type": "execute_result",
          "data": {
            "text/plain": [
              "{'Ostervaldo': 'oster@email.com',\n",
              " 'Maristênio': 'marist@email.com',\n",
              " 'Leroiane': 'lero@email.com',\n",
              " 'Jozezin': ['zezin@exemplo.com', 'zemane@xemple.com'],\n",
              " 'Evilásio': 'evi@exemplo.com',\n",
              " 'zé': 'ze@mailzemplo.com',\n",
              " 'gardenia': 'gardenia@exemplo.com',\n",
              " 'Aloisio': 'aloisio@exml.com'}"
            ]
          },
          "metadata": {},
          "execution_count": 12
        }
      ]
    },
    {
      "cell_type": "code",
      "source": [
        "#Modificar (só inserir um novo valor à chave correspondente)\n",
        "contatos['Maristênio'] = 'steniomari2023@exemplo.com'\n",
        "\n",
        "contatos"
      ],
      "metadata": {
        "colab": {
          "base_uri": "https://localhost:8080/"
        },
        "id": "Lrm-tD0ZLFcp",
        "outputId": "70dc2779-8d96-4394-9873-da69103b0f67"
      },
      "execution_count": 14,
      "outputs": [
        {
          "output_type": "execute_result",
          "data": {
            "text/plain": [
              "{'Ostervaldo': 'oster@email.com',\n",
              " 'Maristênio': 'steniomari2023@exemplo.com',\n",
              " 'Leroiane': 'lero@email.com',\n",
              " 'Jozezin': ['zezin@exemplo.com', 'zemane@xemple.com'],\n",
              " 'Evilásio': 'evi@exemplo.com',\n",
              " 'zé': 'ze@mailzemplo.com',\n",
              " 'gardenia': 'gardenia@exemplo.com',\n",
              " 'Aloisio': 'aloisio@exml.com'}"
            ]
          },
          "metadata": {},
          "execution_count": 14
        }
      ]
    },
    {
      "cell_type": "code",
      "source": [
        "#Remoção del\n",
        "\n",
        "del contatos['Evilásio']\n",
        "\n",
        "contatos"
      ],
      "metadata": {
        "colab": {
          "base_uri": "https://localhost:8080/"
        },
        "id": "3GipTgV9PizL",
        "outputId": "43950097-5fe5-4f45-932e-f3402894b803"
      },
      "execution_count": 17,
      "outputs": [
        {
          "output_type": "execute_result",
          "data": {
            "text/plain": [
              "{'Ostervaldo': 'oster@email.com',\n",
              " 'Maristênio': 'steniomari2023@exemplo.com',\n",
              " 'Leroiane': 'lero@email.com',\n",
              " 'Jozezin': ['zezin@exemplo.com', 'zemane@xemple.com'],\n",
              " 'zé': 'ze@mailzemplo.com',\n",
              " 'gardenia': 'gardenia@exemplo.com',\n",
              " 'Aloisio': 'aloisio@exml.com'}"
            ]
          },
          "metadata": {},
          "execution_count": 17
        }
      ]
    },
    {
      "cell_type": "code",
      "source": [
        "contatos.items()"
      ],
      "metadata": {
        "colab": {
          "base_uri": "https://localhost:8080/"
        },
        "id": "a4uw_dIFPTJE",
        "outputId": "62d084d9-fa30-4559-fa5d-78b3a0cb1192"
      },
      "execution_count": 16,
      "outputs": [
        {
          "output_type": "execute_result",
          "data": {
            "text/plain": [
              "dict_items([('Ostervaldo', 'oster@email.com'), ('Maristênio', 'steniomari2023@exemplo.com'), ('Leroiane', 'lero@email.com'), ('Jozezin', ['zezin@exemplo.com', 'zemane@xemple.com']), ('Evilásio', 'evi@exemplo.com'), ('zé', 'ze@mailzemplo.com'), ('gardenia', 'gardenia@exemplo.com'), ('Aloisio', 'aloisio@exml.com')])"
            ]
          },
          "metadata": {},
          "execution_count": 16
        }
      ]
    },
    {
      "cell_type": "code",
      "source": [
        "#métodos úteis keys(), values()\n",
        "contatos.keys()\n",
        "contatos.values()"
      ],
      "metadata": {
        "colab": {
          "base_uri": "https://localhost:8080/"
        },
        "id": "tRWpJE9pR041",
        "outputId": "9cdb850e-2649-42ab-f35c-d85401ab2497"
      },
      "execution_count": 18,
      "outputs": [
        {
          "output_type": "execute_result",
          "data": {
            "text/plain": [
              "dict_values(['oster@email.com', 'steniomari2023@exemplo.com', 'lero@email.com', ['zezin@exemplo.com', 'zemane@xemple.com'], 'ze@mailzemplo.com', 'gardenia@exemplo.com', 'aloisio@exml.com'])"
            ]
          },
          "metadata": {},
          "execution_count": 18
        }
      ]
    },
    {
      "cell_type": "code",
      "source": [
        "#Valores máximos, mínimos e ordenações\n",
        "curso = {'Alice': 8.5, 'Tiago': 7.0, 'Chico': 6.5, 'Nubia': 10}\n",
        "#Quem obteve a maior nota?\n",
        "max(curso, key=curso.get)\n",
        "#quem teve o pior desempenho?\n",
        "min(curso, key=curso.get)\n",
        "#Ordene da menor nota para a maior\n",
        "sorted(curso, key=curso.get)\n",
        "#ordenar da maior nota para a menor\n",
        "sorted(curso, key=curso.get, reverse=True)\n",
        "     "
      ],
      "metadata": {
        "colab": {
          "base_uri": "https://localhost:8080/"
        },
        "id": "iVZ4OBs7SRKr",
        "outputId": "6e0b6c19-e846-4cff-ad24-f7a0a5d4191e"
      },
      "execution_count": 20,
      "outputs": [
        {
          "output_type": "execute_result",
          "data": {
            "text/plain": [
              "['Nubia', 'Alice', 'Tiago', 'Chico']"
            ]
          },
          "metadata": {},
          "execution_count": 20
        }
      ]
    },
    {
      "cell_type": "code",
      "source": [
        "curso = { 'Alice': 8.5, 'Tiago': 7.0,\n",
        "          'Chico': 6.5, 'Nubia': 10}\n",
        " #Quem obteve a maior nota?\n",
        "max(curso)        "
      ],
      "metadata": {
        "colab": {
          "base_uri": "https://localhost:8080/",
          "height": 35
        },
        "id": "Qe_lgASJQ_Z3",
        "outputId": "3e63b2ae-91ee-4555-d9a2-dbb8a671efeb"
      },
      "execution_count": 24,
      "outputs": [
        {
          "output_type": "execute_result",
          "data": {
            "text/plain": [
              "'Tiago'"
            ],
            "application/vnd.google.colaboratory.intrinsic+json": {
              "type": "string"
            }
          },
          "metadata": {},
          "execution_count": 24
        }
      ]
    },
    {
      "cell_type": "code",
      "source": [
        " #Exercícios\n",
        "\n",
        "#O dicionário a seguir contém uma relação de atletas e seus respectivos tempos em uma corrida de 100 metros. corrida100m = {'Zé': 10, 'marco': 9.9, 'Marta': 9.98, 'Lourdes': 10.2}\n",
        "#Crie um código em python que retorna:\n",
        "#Quem chegou primeiro\n",
        "#Quem chegou por último\n",
        "#Ordene os atletas do primeiro ao último lugar."
      ],
      "metadata": {
        "id": "H38GdMcrUWut"
      },
      "execution_count": 25,
      "outputs": []
    },
    {
      "cell_type": "code",
      "source": [
        "#Primeiro\n",
        "corrida100m = {'Zé': 10, 'marco': 9.9, 'Marta': 9.98, 'Lourdes': 10.2}\n",
        "max(corrida100m, key = corrida100m.get)\n"
      ],
      "metadata": {
        "colab": {
          "base_uri": "https://localhost:8080/",
          "height": 35
        },
        "id": "M09yrGEQUjrO",
        "outputId": "cdb68767-4948-4fbe-83f5-b6068d866642"
      },
      "execution_count": 27,
      "outputs": [
        {
          "output_type": "execute_result",
          "data": {
            "text/plain": [
              "'Lourdes'"
            ],
            "application/vnd.google.colaboratory.intrinsic+json": {
              "type": "string"
            }
          },
          "metadata": {},
          "execution_count": 27
        }
      ]
    },
    {
      "cell_type": "code",
      "source": [
        "#Ultimo\n",
        "min(corrida100m, key = corrida100m.get)"
      ],
      "metadata": {
        "colab": {
          "base_uri": "https://localhost:8080/",
          "height": 35
        },
        "id": "WBPlIEWQWqQ7",
        "outputId": "27147f55-5d43-48f7-863c-c2298b00c82f"
      },
      "execution_count": 29,
      "outputs": [
        {
          "output_type": "execute_result",
          "data": {
            "text/plain": [
              "'marco'"
            ],
            "application/vnd.google.colaboratory.intrinsic+json": {
              "type": "string"
            }
          },
          "metadata": {},
          "execution_count": 29
        }
      ]
    },
    {
      "cell_type": "code",
      "source": [
        "#Ordenar\n",
        "sorted(corrida100m, key = corrida100m.get,reverse= True)"
      ],
      "metadata": {
        "colab": {
          "base_uri": "https://localhost:8080/"
        },
        "id": "19uDQfhuW0Df",
        "outputId": "4e8407ec-087a-4177-95d7-863f1043e7aa"
      },
      "execution_count": 30,
      "outputs": [
        {
          "output_type": "execute_result",
          "data": {
            "text/plain": [
              "['Lourdes', 'Zé', 'Marta', 'marco']"
            ]
          },
          "metadata": {},
          "execution_count": 30
        }
      ]
    }
  ]
}