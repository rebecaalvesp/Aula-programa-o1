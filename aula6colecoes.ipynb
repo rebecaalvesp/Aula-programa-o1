{
  "nbformat": 4,
  "nbformat_minor": 0,
  "metadata": {
    "colab": {
      "provenance": [],
      "authorship_tag": "ABX9TyMyOcjNIND05lg4V0X5ZkaA",
      "include_colab_link": true
    },
    "kernelspec": {
      "name": "python3",
      "display_name": "Python 3"
    },
    "language_info": {
      "name": "python"
    }
  },
  "cells": [
    {
      "cell_type": "markdown",
      "metadata": {
        "id": "view-in-github",
        "colab_type": "text"
      },
      "source": [
        "<a href=\"https://colab.research.google.com/github/rebecaalvesp/Aula-programa-o1/blob/main/aula6colecoes.ipynb\" target=\"_parent\"><img src=\"https://colab.research.google.com/assets/colab-badge.svg\" alt=\"Open In Colab\"/></a>"
      ]
    },
    {
      "cell_type": "code",
      "execution_count": 1,
      "metadata": {
        "colab": {
          "base_uri": "https://localhost:8080/"
        },
        "id": "JZ5BCVPV0hbZ",
        "outputId": "46bc9038-3ec2-4708-f7b7-3c2cf0beb2db"
      },
      "outputs": [
        {
          "output_type": "execute_result",
          "data": {
            "text/plain": [
              "['ze', 'tião', 'joaquim', 'julia', 'Ana', 'Zabé', 'Maria']"
            ]
          },
          "metadata": {},
          "execution_count": 1
        }
      ],
      "source": [
        "nomes = ['ze', 'tião','joaquim']\n",
        "nomes.append('julia')\n",
        "nomes\n",
        "\n",
        "#vários valores\n",
        "outrosNomes = ['Ana', 'Zabé', 'Maria']\n",
        "nomes.extend(outrosNomes)\n",
        "\n",
        "nomes"
      ]
    },
    {
      "cell_type": "code",
      "source": [
        "#remove-Remove o primeiro elemento\n",
        "#pop- Remove o último elemento"
      ],
      "metadata": {
        "id": "USzf9P5c8bqH"
      },
      "execution_count": 2,
      "outputs": []
    },
    {
      "cell_type": "code",
      "source": [
        "numeros = [5, 8, 9, 15, 30]\n",
        "numeros.remove(numeros[0])\n",
        "numeros.pop()\n",
        "numeros"
      ],
      "metadata": {
        "colab": {
          "base_uri": "https://localhost:8080/"
        },
        "id": "qOfi0M3L-Fe8",
        "outputId": "9c195c50-9bec-496b-f7b5-5d36c1f2210e"
      },
      "execution_count": 11,
      "outputs": [
        {
          "output_type": "execute_result",
          "data": {
            "text/plain": [
              "[8, 9, 15]"
            ]
          },
          "metadata": {},
          "execution_count": 11
        }
      ]
    },
    {
      "cell_type": "code",
      "source": [
        "#Crie uma lista de notas,e exiba-a da menor para a maior nota \n",
        "notas = [2,10,9,4,7,3,8]\n",
        "nomes = ['Ademar', 'Maristênio', 'Adebal', 'Leo']\n",
        "notas.sort()\n",
        "nomes.sort(reverse=True)"
      ],
      "metadata": {
        "id": "stCneZ7a_cp1"
      },
      "execution_count": 12,
      "outputs": []
    },
    {
      "cell_type": "code",
      "source": [
        "#Exemplo função map - cria uma nova lista com o dobro\n",
        "numeros = [2,4,6,3]\n",
        "nova_lista = list(map(lambda x : x*2, numeros))\n",
        "nova_lista"
      ],
      "metadata": {
        "colab": {
          "base_uri": "https://localhost:8080/"
        },
        "id": "5gDHHWsOBS25",
        "outputId": "744dfb64-3c0e-4860-e06e-c75c9cf424b4"
      },
      "execution_count": 14,
      "outputs": [
        {
          "output_type": "execute_result",
          "data": {
            "text/plain": [
              "[4, 8, 12, 6]"
            ]
          },
          "metadata": {},
          "execution_count": 14
        }
      ]
    },
    {
      "cell_type": "code",
      "source": [
        "#Pegar cada um dos números e dividir por 3\n",
        "numeros = [6,9,12,30]\n",
        "numDivi = list(map(lambda x : x/3, numeros))\n",
        "\n",
        "numDivi"
      ],
      "metadata": {
        "colab": {
          "base_uri": "https://localhost:8080/"
        },
        "id": "BEzYB1BLCwew",
        "outputId": "df21c0c8-6be6-42ff-b73e-91b397c8cdc6"
      },
      "execution_count": 15,
      "outputs": [
        {
          "output_type": "execute_result",
          "data": {
            "text/plain": [
              "[2.0, 3.0, 4.0, 10.0]"
            ]
          },
          "metadata": {},
          "execution_count": 15
        }
      ]
    },
    {
      "cell_type": "code",
      "source": [
        "#Soma\n",
        "numeros = [5,12,96,102]\n",
        "numSoma = list(map(lambda x : x+2, numeros))\n",
        "\n",
        "numSoma"
      ],
      "metadata": {
        "colab": {
          "base_uri": "https://localhost:8080/"
        },
        "id": "Mg_-VaD4D6q3",
        "outputId": "4ab073e3-86e9-4709-a7e0-b45927cb66dd"
      },
      "execution_count": 16,
      "outputs": [
        {
          "output_type": "execute_result",
          "data": {
            "text/plain": [
              "[7, 14, 98, 104]"
            ]
          },
          "metadata": {},
          "execution_count": 16
        }
      ]
    },
    {
      "cell_type": "code",
      "source": [
        "#Função filter\n",
        "\n",
        "nomes = ['José', 'João', 'Sebastiao', 'Angelica', 'leonardo']\n",
        "\n",
        "new_list = list(filter(lambda x : len(x)>5,nomes))\n",
        "new_list"
      ],
      "metadata": {
        "colab": {
          "base_uri": "https://localhost:8080/"
        },
        "id": "MbvLwXkEEfWN",
        "outputId": "31d574a6-182b-4441-88b7-c8cec8d7e10a"
      },
      "execution_count": 17,
      "outputs": [
        {
          "output_type": "execute_result",
          "data": {
            "text/plain": [
              "['Sebastiao', 'Angelica', 'leonardo']"
            ]
          },
          "metadata": {},
          "execution_count": 17
        }
      ]
    },
    {
      "cell_type": "code",
      "source": [
        "#Criar uma lista de notas, imprime as maiores que 6\n",
        "\n",
        "notas = [2,9,7,3,1,10,6]\n",
        "new_notas = list(filter(lambda x : int(x)>6, notas))\n",
        "new_notas"
      ],
      "metadata": {
        "colab": {
          "base_uri": "https://localhost:8080/"
        },
        "id": "nSF3I2FIGTC0",
        "outputId": "a13c3e96-177b-4cc0-df3c-41282d5c242d"
      },
      "execution_count": 20,
      "outputs": [
        {
          "output_type": "execute_result",
          "data": {
            "text/plain": [
              "[9, 7, 10]"
            ]
          },
          "metadata": {},
          "execution_count": 20
        }
      ]
    },
    {
      "cell_type": "code",
      "source": [
        "#Exercicio 1\n",
        "numeros = [2,4,6,8,12]\n",
        "num_quadrado = list(map(lambda x : x**2, numeros))\n",
        "num_quadrado"
      ],
      "metadata": {
        "colab": {
          "base_uri": "https://localhost:8080/"
        },
        "id": "MDxuVi7dHHII",
        "outputId": "d11384f6-82ac-46db-d296-ab7faab99a03"
      },
      "execution_count": 22,
      "outputs": [
        {
          "output_type": "execute_result",
          "data": {
            "text/plain": [
              "[4, 16, 36, 64, 144]"
            ]
          },
          "metadata": {},
          "execution_count": 22
        }
      ]
    },
    {
      "cell_type": "code",
      "source": [
        "#Exercicio 2\n",
        "nomes = ['Maria', 'Claudionor', 'Larissa', 'Julio']\n",
        "new_nomes = list(map(lambda x: len(x), nomes))\n",
        "new_nomes"
      ],
      "metadata": {
        "colab": {
          "base_uri": "https://localhost:8080/"
        },
        "id": "VvxFRvmAJssU",
        "outputId": "df7d891a-ee10-42f8-96bc-935b5cd0ca27"
      },
      "execution_count": 25,
      "outputs": [
        {
          "output_type": "execute_result",
          "data": {
            "text/plain": [
              "[5, 10, 7, 5]"
            ]
          },
          "metadata": {},
          "execution_count": 25
        }
      ]
    },
    {
      "cell_type": "code",
      "source": [
        "#Exercicio 3\n",
        "numeros = [3,1,6,0,12]\n",
        "numerosPares = list(filter(lambda x: x%2==0, numeros))\n",
        "numerosPares"
      ],
      "metadata": {
        "colab": {
          "base_uri": "https://localhost:8080/"
        },
        "id": "NGpT4uIDLgpu",
        "outputId": "1bd81e7f-6ca3-473a-9f16-347d106e17ea"
      },
      "execution_count": 30,
      "outputs": [
        {
          "output_type": "execute_result",
          "data": {
            "text/plain": [
              "[6, 0, 12]"
            ]
          },
          "metadata": {},
          "execution_count": 30
        }
      ]
    },
    {
      "cell_type": "code",
      "source": [
        "#Exercicio 4\n",
        "nomes = ['Abigail', 'Larissa', 'Andre', 'Pedro']\n",
        "listanomes = list(filter(lambda x: x[0] == 'A', nomes))\n",
        "listanomes"
      ],
      "metadata": {
        "colab": {
          "base_uri": "https://localhost:8080/"
        },
        "id": "HX5YQNxaN_tE",
        "outputId": "729bdd44-a0dc-4b7a-a740-38afef160faa"
      },
      "execution_count": 34,
      "outputs": [
        {
          "output_type": "execute_result",
          "data": {
            "text/plain": [
              "['Abigail', 'Andre']"
            ]
          },
          "metadata": {},
          "execution_count": 34
        }
      ]
    },
    {
      "cell_type": "code",
      "source": [],
      "metadata": {
        "id": "2hvRRgb1PduR"
      },
      "execution_count": null,
      "outputs": []
    }
  ]
}