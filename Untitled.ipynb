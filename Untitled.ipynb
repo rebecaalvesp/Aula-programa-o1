{
  "nbformat": 4,
  "nbformat_minor": 0,
  "metadata": {
    "colab": {
      "provenance": [],
      "authorship_tag": "ABX9TyOIwCf9yVGdJNLInnBo/1Gj",
      "include_colab_link": true
    },
    "kernelspec": {
      "name": "python3",
      "display_name": "Python 3"
    },
    "language_info": {
      "name": "python"
    }
  },
  "cells": [
    {
      "cell_type": "markdown",
      "metadata": {
        "id": "view-in-github",
        "colab_type": "text"
      },
      "source": [
        "<a href=\"https://colab.research.google.com/github/rebecaalvesp/Aula-programa-o1/blob/main/Untitled.ipynb\" target=\"_parent\"><img src=\"https://colab.research.google.com/assets/colab-badge.svg\" alt=\"Open In Colab\"/></a>"
      ]
    },
    {
      "cell_type": "code",
      "execution_count": 11,
      "metadata": {
        "colab": {
          "base_uri": "https://localhost:8080/"
        },
        "id": "M542uYdb1w8n",
        "outputId": "3d47f19c-6ef8-4300-e136-9a08fde4575d"
      },
      "outputs": [
        {
          "output_type": "execute_result",
          "data": {
            "text/plain": [
              "['Pedro, Lucas, Maria, Judite']"
            ]
          },
          "metadata": {},
          "execution_count": 11
        }
      ],
      "source": [
        "#listas de outros tipos\n",
        "alunos = [ 'Pedro, Lucas, Maria, Judite']\n",
        "alunos"
      ]
    },
    {
      "cell_type": "code",
      "source": [
        "#alterar os valores de itens da lista\n",
        "alunos[0] = 'Pedro'"
      ],
      "metadata": {
        "id": "QUPEuCCa2A2g"
      },
      "execution_count": 7,
      "outputs": []
    },
    {
      "cell_type": "code",
      "source": [
        "#adiciona o valor\n",
        "alunos.append('Fernanda')\n",
        "alunos"
      ],
      "metadata": {
        "colab": {
          "base_uri": "https://localhost:8080/"
        },
        "id": "LntJBgbn2VVb",
        "outputId": "05723062-b7db-4fd8-ee9c-f7fbd82cd2eb"
      },
      "execution_count": 26,
      "outputs": [
        {
          "output_type": "execute_result",
          "data": {
            "text/plain": [
              "['Pedro, Lucas, Maria, Judite', 'Maria', 'Pedro', 'Pedro', 'Fernanda']"
            ]
          },
          "metadata": {},
          "execution_count": 26
        }
      ]
    },
    {
      "cell_type": "code",
      "source": [
        "alunos.append(input('Digite o nome:'))"
      ],
      "metadata": {
        "colab": {
          "base_uri": "https://localhost:8080/"
        },
        "id": "nKT29abB3-45",
        "outputId": "600cf904-9db3-4624-8f51-b23f9f92d558"
      },
      "execution_count": 14,
      "outputs": [
        {
          "name": "stdout",
          "output_type": "stream",
          "text": [
            "Digite o nome:Pedro\n"
          ]
        }
      ]
    },
    {
      "cell_type": "code",
      "source": [
        "##Descobrir se há um valor determinado na lista, exibir sua posição na lista\n",
        "if  'Pedro' in alunos:\n",
        "  print('Tem sim')\n",
        "else:\n",
        "  print('Tem não')"
      ],
      "metadata": {
        "colab": {
          "base_uri": "https://localhost:8080/"
        },
        "id": "jWBctqC9MguA",
        "outputId": "8399b14b-6e3a-4d89-cc2e-1cb6861e35e8"
      },
      "execution_count": 27,
      "outputs": [
        {
          "output_type": "stream",
          "name": "stdout",
          "text": [
            "Tem sim\n"
          ]
        }
      ]
    },
    {
      "cell_type": "code",
      "source": [
        "nome=input('Digite o nome')\n",
        "if nome in alunos:\n",
        "  print('tem' , nome)\n",
        "else:\n",
        "  print('nao tem', nome)"
      ],
      "metadata": {
        "colab": {
          "base_uri": "https://localhost:8080/"
        },
        "id": "RTTRDNvKNU0L",
        "outputId": "5bff162e-8ffa-4868-ce51-c97e9a841653"
      },
      "execution_count": 30,
      "outputs": [
        {
          "output_type": "stream",
          "name": "stdout",
          "text": [
            "Digite o nomeMaria\n",
            "tem Maria\n"
          ]
        }
      ]
    }
  ]
}