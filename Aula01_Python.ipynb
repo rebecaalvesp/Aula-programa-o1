{
  "nbformat": 4,
  "nbformat_minor": 0,
  "metadata": {
    "colab": {
      "provenance": [],
      "authorship_tag": "ABX9TyMwev3ri/h15f26LMlVDupj",
      "include_colab_link": true
    },
    "kernelspec": {
      "name": "python3",
      "display_name": "Python 3"
    },
    "language_info": {
      "name": "python"
    }
  },
  "cells": [
    {
      "cell_type": "markdown",
      "metadata": {
        "id": "view-in-github",
        "colab_type": "text"
      },
      "source": [
        "<a href=\"https://colab.research.google.com/github/rebecaalvesp/Aula-programa-o1/blob/main/Aula01_Python.ipynb\" target=\"_parent\"><img src=\"https://colab.research.google.com/assets/colab-badge.svg\" alt=\"Open In Colab\"/></a>"
      ]
    },
    {
      "cell_type": "code",
      "source": [
        "print(\"Eu vou programar, geral\")\n"
      ],
      "metadata": {
        "colab": {
          "base_uri": "https://localhost:8080/"
        },
        "id": "ze9Zn_g8waWF",
        "outputId": "98e9135c-bc37-4174-e64c-33d4e975204c"
      },
      "execution_count": 2,
      "outputs": [
        {
          "output_type": "stream",
          "name": "stdout",
          "text": [
            "Eu vou programar, geral\n"
          ]
        }
      ]
    },
    {
      "cell_type": "code",
      "source": [
        "#Variaveis\n",
        "nome = \"Maria Rebeca\"\n",
        "print(nome)\n"
      ],
      "metadata": {
        "colab": {
          "base_uri": "https://localhost:8080/"
        },
        "id": "Cyv_CVAhwxK3",
        "outputId": "cbb1e261-1f15-4725-a105-0e1f483e467a"
      },
      "execution_count": 4,
      "outputs": [
        {
          "output_type": "stream",
          "name": "stdout",
          "text": [
            "Maria Rebeca\n"
          ]
        }
      ]
    },
    {
      "cell_type": "code",
      "source": [
        "a = 20\n",
        "b = 35\n",
        "soma = a + b\n",
        "subtracao = a - b\n",
        "divisao = a / b\n",
        "multipli = a * b \n"
      ],
      "metadata": {
        "id": "5iFH6S1Pxrq6"
      },
      "execution_count": 8,
      "outputs": []
    },
    {
      "cell_type": "code",
      "source": [
        "print(soma)\n",
        "print(subtracao)\n",
        "print(divisao)\n",
        "print(multipli)\n"
      ],
      "metadata": {
        "colab": {
          "base_uri": "https://localhost:8080/"
        },
        "id": "BgsInVpoyXbv",
        "outputId": "39d6d0c5-479c-42f7-effe-8cbb1df8aaa6"
      },
      "execution_count": 10,
      "outputs": [
        {
          "output_type": "stream",
          "name": "stdout",
          "text": [
            "55\n",
            "-15\n",
            "0.5714285714285714\n",
            "700\n"
          ]
        }
      ]
    },
    {
      "cell_type": "code",
      "source": [
        "#Multiplicar\n",
        "num = 58\n",
        "print (num * 2)"
      ],
      "metadata": {
        "colab": {
          "base_uri": "https://localhost:8080/"
        },
        "id": "0u7y_vwxy5Xc",
        "outputId": "6d0bc084-c525-407e-a452-fee2ffdafbe3"
      },
      "execution_count": 12,
      "outputs": [
        {
          "output_type": "stream",
          "name": "stdout",
          "text": [
            "116\n"
          ]
        }
      ]
    },
    {
      "cell_type": "code",
      "source": [
        "#Media\n",
        "n1 = 10\n",
        "n2 = 10\n",
        "n3 = 9\n",
        "media =(n1+n2+n3)/3\n",
        "print(media)"
      ],
      "metadata": {
        "colab": {
          "base_uri": "https://localhost:8080/"
        },
        "id": "tVmare-d1MdI",
        "outputId": "1962d484-bb54-4467-c202-00284a10051b"
      },
      "execution_count": 21,
      "outputs": [
        {
          "output_type": "stream",
          "name": "stdout",
          "text": [
            "9.666666666666666\n"
          ]
        }
      ]
    },
    {
      "cell_type": "code",
      "source": [
        "#Calcular idade\n",
        "anonasc = 2010\n",
        "print(2023 - 2010)"
      ],
      "metadata": {
        "colab": {
          "base_uri": "https://localhost:8080/"
        },
        "id": "isALsF-a2YLJ",
        "outputId": "4332794b-7d20-4d83-c4fa-131734a5e0ac"
      },
      "execution_count": 28,
      "outputs": [
        {
          "output_type": "stream",
          "name": "stdout",
          "text": [
            "13\n"
          ]
        }
      ]
    },
    {
      "cell_type": "code",
      "source": [
        "#Trabalhando com INPUTS\n",
        "nome = input('Digite seu nome')\n",
        "print('Ola'+nome)"
      ],
      "metadata": {
        "colab": {
          "base_uri": "https://localhost:8080/"
        },
        "id": "eal9KOSw3QA0",
        "outputId": "60f99485-d2b3-46f0-c1fe-d1d5e1db907e"
      },
      "execution_count": 29,
      "outputs": [
        {
          "output_type": "stream",
          "name": "stdout",
          "text": [
            "Digite seu nome Rebeca\n",
            "Ola Rebeca\n"
          ]
        }
      ]
    },
    {
      "cell_type": "code",
      "source": [
        "#Multiplicando\n",
        "\n",
        "num = 45\n",
        "print(45 * 3)\n"
      ],
      "metadata": {
        "colab": {
          "base_uri": "https://localhost:8080/"
        },
        "id": "zC_RhNA94tQQ",
        "outputId": "6ce677eb-fa19-4ca1-c670-3056de1f08cd"
      },
      "execution_count": 31,
      "outputs": [
        {
          "output_type": "stream",
          "name": "stdout",
          "text": [
            "135\n"
          ]
        }
      ]
    },
    {
      "cell_type": "code",
      "source": [
        "#Multiplicando por 3\n",
        "#PARSE\n",
        "num = int(input('Digite o numero'))\n",
        "print (num*3)"
      ],
      "metadata": {
        "colab": {
          "base_uri": "https://localhost:8080/"
        },
        "id": "76DT6os-5VtQ",
        "outputId": "65078f0f-3642-4f92-d303-ff62c28b911e"
      },
      "execution_count": 33,
      "outputs": [
        {
          "output_type": "stream",
          "name": "stdout",
          "text": [
            "Digite o numero52\n",
            "156\n"
          ]
        }
      ]
    }
  ]
}