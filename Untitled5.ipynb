{
  "nbformat": 4,
  "nbformat_minor": 0,
  "metadata": {
    "colab": {
      "provenance": [],
      "authorship_tag": "ABX9TyMzyydWDWBFdq1poyJiHWjn",
      "include_colab_link": true
    },
    "kernelspec": {
      "name": "python3",
      "display_name": "Python 3"
    },
    "language_info": {
      "name": "python"
    }
  },
  "cells": [
    {
      "cell_type": "markdown",
      "metadata": {
        "id": "view-in-github",
        "colab_type": "text"
      },
      "source": [
        "<a href=\"https://colab.research.google.com/github/rebecaalvesp/Aula-programa-o1/blob/main/Untitled5.ipynb\" target=\"_parent\"><img src=\"https://colab.research.google.com/assets/colab-badge.svg\" alt=\"Open In Colab\"/></a>"
      ]
    },
    {
      "cell_type": "code",
      "source": [
        "#Descobrir se um número é par\n",
        "a = int(input('Digite um numero! '))\n",
        "if a % 2 ==0:\n",
        "  print('É par')\n",
        "else:\n",
        "  print('É impar')  "
      ],
      "metadata": {
        "colab": {
          "base_uri": "https://localhost:8080/"
        },
        "id": "BMA47dWR0TPa",
        "outputId": "18865e02-3c69-4f7c-95bd-41f889b7ee21"
      },
      "execution_count": 5,
      "outputs": [
        {
          "output_type": "stream",
          "name": "stdout",
          "text": [
            "Digite um numero! 2\n",
            "É par\n"
          ]
        }
      ]
    },
    {
      "cell_type": "code",
      "source": [
        "#\n",
        "cont = 0\n",
        "\n",
        "while (cont < 10):\n",
        "  print(cont +1)\n",
        "  cont+=1"
      ],
      "metadata": {
        "colab": {
          "base_uri": "https://localhost:8080/"
        },
        "id": "sK5ZNaZd5WI7",
        "outputId": "ebdf53c2-5009-4bd9-ae07-54a0c5050e2e"
      },
      "execution_count": 7,
      "outputs": [
        {
          "output_type": "stream",
          "name": "stdout",
          "text": [
            "1\n",
            "2\n",
            "3\n",
            "4\n",
            "5\n",
            "6\n",
            "7\n",
            "8\n",
            "9\n",
            "10\n"
          ]
        }
      ]
    },
    {
      "cell_type": "code",
      "source": [
        "#lista de compras\n",
        "comprasListas = []\n",
        "\n",
        "item = input('Digite o item: ')\n",
        "\n",
        "while (item != '0'):\n",
        "  comprasListas.append(item)\n",
        "  item = input('Digite o item: ')\n",
        "\n",
        "comprasLista  "
      ],
      "metadata": {
        "id": "3F_9sds1_8uw"
      },
      "execution_count": null,
      "outputs": []
    }
  ]
}