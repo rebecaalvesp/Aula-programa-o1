{
  "nbformat": 4,
  "nbformat_minor": 0,
  "metadata": {
    "colab": {
      "provenance": [],
      "authorship_tag": "ABX9TyNpJKHNb257JsbB0HnLACtq",
      "include_colab_link": true
    },
    "kernelspec": {
      "name": "python3",
      "display_name": "Python 3"
    },
    "language_info": {
      "name": "python"
    }
  },
  "cells": [
    {
      "cell_type": "markdown",
      "metadata": {
        "id": "view-in-github",
        "colab_type": "text"
      },
      "source": [
        "<a href=\"https://colab.research.google.com/github/rebecaalvesp/Aula-programa-o1/blob/main/Untitled9.ipynb\" target=\"_parent\"><img src=\"https://colab.research.google.com/assets/colab-badge.svg\" alt=\"Open In Colab\"/></a>"
      ]
    },
    {
      "cell_type": "code",
      "execution_count": 1,
      "metadata": {
        "colab": {
          "base_uri": "https://localhost:8080/"
        },
        "id": "xmif5_VoBGYk",
        "outputId": "7db0f94c-1d54-4767-bdac-bf8d3c171af7"
      },
      "outputs": [
        {
          "output_type": "execute_result",
          "data": {
            "text/plain": [
              "['ze', 'tião', 'joaquim', 'julia', 'Ana', 'Zabé', 'Maria']"
            ]
          },
          "metadata": {},
          "execution_count": 1
        }
      ],
      "source": [
        "nomes = ['ze', 'tião','joaquim']\n",
        "nomes.append('julia')\n",
        "nomes\n",
        "\n",
        "#vários valores\n",
        "outrosNomes = ['Ana', 'Zabé', 'Maria']\n",
        "nomes.extend(outrosNomes)\n",
        "\n",
        "nomes"
      ]
    },
    {
      "cell_type": "code",
      "source": [
        "#remove-Remove o primeiro elemento\n",
        "#pop- Remove o último elemento"
      ],
      "metadata": {
        "id": "wC1xDzwyTxL3"
      },
      "execution_count": 2,
      "outputs": []
    },
    {
      "cell_type": "code",
      "source": [
        "numeros = [5, 8, 9, 15, 30]\n",
        "numeros.remove(numeros[0])\n",
        "numeros.pop()\n",
        "numeros\n",
        "     "
      ],
      "metadata": {
        "colab": {
          "base_uri": "https://localhost:8080/"
        },
        "id": "X_ChTMwpTzA3",
        "outputId": "4c23e4d7-f321-4e6c-a72b-1646261a526f"
      },
      "execution_count": 3,
      "outputs": [
        {
          "output_type": "execute_result",
          "data": {
            "text/plain": [
              "[8, 9, 15]"
            ]
          },
          "metadata": {},
          "execution_count": 3
        }
      ]
    },
    {
      "cell_type": "code",
      "source": [
        "#Crie uma lista de notas,e exiba-a da menor para a maior nota \n",
        "notas = [2,10,9,4,7,3,8]\n",
        "nomes = ['Ademar', 'Maristênio', 'Adebal', 'Leo']\n",
        "notas.sort()\n",
        "nomes.sort(reverse=True)"
      ],
      "metadata": {
        "id": "Svs1NyyvT3TV"
      },
      "execution_count": 6,
      "outputs": []
    },
    {
      "cell_type": "code",
      "source": [
        "#Exemplo função map - cria uma nova lista com o dobro\n",
        "numeros = [2,4,6,3]\n",
        "nova_lista = list(map(lambda x : x*2, numeros))\n",
        "nova_lista"
      ],
      "metadata": {
        "colab": {
          "base_uri": "https://localhost:8080/"
        },
        "id": "HYMGWiFHUfCM",
        "outputId": "dfb62ffd-c76b-4292-bb26-cef1f02fc34c"
      },
      "execution_count": 7,
      "outputs": [
        {
          "output_type": "execute_result",
          "data": {
            "text/plain": [
              "[4, 8, 12, 6]"
            ]
          },
          "metadata": {},
          "execution_count": 7
        }
      ]
    },
    {
      "cell_type": "code",
      "source": [
        "#Pegar cada um dos números e dividir por 3\n",
        "numeros = [6,9,12,30]\n",
        "numDivi = list(map(lambda x : x/3, numeros))\n",
        "\n",
        "numDivi"
      ],
      "metadata": {
        "colab": {
          "base_uri": "https://localhost:8080/"
        },
        "id": "o2WjxR0pYHAi",
        "outputId": "cad8f845-bb32-460c-a58d-06358f395c6f"
      },
      "execution_count": 8,
      "outputs": [
        {
          "output_type": "execute_result",
          "data": {
            "text/plain": [
              "[2.0, 3.0, 4.0, 10.0]"
            ]
          },
          "metadata": {},
          "execution_count": 8
        }
      ]
    },
    {
      "cell_type": "code",
      "source": [
        "#Soma\n",
        "numeros = [5,12,96,102]\n",
        "numSoma = list(map(lambda x : x+2, numeros))\n",
        "\n",
        "numSoma"
      ],
      "metadata": {
        "colab": {
          "base_uri": "https://localhost:8080/"
        },
        "id": "GV9W98ITYLdr",
        "outputId": "e642fc27-cfa0-4b14-c8c0-47e54d3cfc54"
      },
      "execution_count": 9,
      "outputs": [
        {
          "output_type": "execute_result",
          "data": {
            "text/plain": [
              "[7, 14, 98, 104]"
            ]
          },
          "metadata": {},
          "execution_count": 9
        }
      ]
    },
    {
      "cell_type": "code",
      "source": [
        "#Função filter\n",
        "\n",
        "nomes = ['José', 'João', 'Sebastiao', 'Angelica', 'leonardo']\n",
        "\n",
        "new_list = list(filter(lambda x : len(x)>5,nomes))\n",
        "new_list"
      ],
      "metadata": {
        "colab": {
          "base_uri": "https://localhost:8080/"
        },
        "id": "_igvnAC6YQHE",
        "outputId": "b50fa192-1b6b-403e-bb4a-79e939e359e1"
      },
      "execution_count": 10,
      "outputs": [
        {
          "output_type": "execute_result",
          "data": {
            "text/plain": [
              "['Sebastiao', 'Angelica', 'leonardo']"
            ]
          },
          "metadata": {},
          "execution_count": 10
        }
      ]
    },
    {
      "cell_type": "code",
      "source": [
        "#Criar uma lista de notas, imprime as maiores que 6\n",
        "\n",
        "notas = [2,9,7,3,1,10,6]\n",
        "new_notas = list(filter(lambda x : int(x)>6, notas))\n",
        "new_notas\n"
      ],
      "metadata": {
        "colab": {
          "base_uri": "https://localhost:8080/"
        },
        "id": "DE-d_EYtYVXI",
        "outputId": "2d3c4355-6e22-44bf-9709-c0a4a542df37"
      },
      "execution_count": 11,
      "outputs": [
        {
          "output_type": "execute_result",
          "data": {
            "text/plain": [
              "[9, 7, 10]"
            ]
          },
          "metadata": {},
          "execution_count": 11
        }
      ]
    },
    {
      "cell_type": "code",
      "source": [
        "#Exercicio 1\n",
        "numeros = [2,4,6,8,12]\n",
        "num_quadrado = list(map(lambda x : x**2, numeros))\n",
        "num_quadrado"
      ],
      "metadata": {
        "colab": {
          "base_uri": "https://localhost:8080/"
        },
        "id": "MEYzmew5YbcY",
        "outputId": "c6c0dcd1-243c-43d1-bf9d-fb7f1a0bcbff"
      },
      "execution_count": 12,
      "outputs": [
        {
          "output_type": "execute_result",
          "data": {
            "text/plain": [
              "[4, 16, 36, 64, 144]"
            ]
          },
          "metadata": {},
          "execution_count": 12
        }
      ]
    },
    {
      "cell_type": "code",
      "source": [
        "#Exercicio 2\n",
        "nomes = ['Maria', 'Claudionor', 'Larissa', 'Julio']\n",
        "new_nomes = list(map(lambda x: len(x), nomes))\n",
        "new_nomes\n"
      ],
      "metadata": {
        "colab": {
          "base_uri": "https://localhost:8080/"
        },
        "id": "pudh4qxtYgZf",
        "outputId": "8fb146f7-05ae-46eb-f0a0-7c72057a7517"
      },
      "execution_count": 13,
      "outputs": [
        {
          "output_type": "execute_result",
          "data": {
            "text/plain": [
              "[5, 10, 7, 5]"
            ]
          },
          "metadata": {},
          "execution_count": 13
        }
      ]
    },
    {
      "cell_type": "code",
      "source": [
        "#Exercicio 3\n",
        "numeros = [3,1,6,0,12]\n",
        "numerosPares = list(filter(lambda x: x%2==0, numeros))\n",
        "numerosPares"
      ],
      "metadata": {
        "colab": {
          "base_uri": "https://localhost:8080/"
        },
        "id": "W1DimWRkYj_u",
        "outputId": "55d64db2-a2e5-41b6-a474-11308943cf4e"
      },
      "execution_count": 14,
      "outputs": [
        {
          "output_type": "execute_result",
          "data": {
            "text/plain": [
              "[6, 0, 12]"
            ]
          },
          "metadata": {},
          "execution_count": 14
        }
      ]
    },
    {
      "cell_type": "code",
      "source": [
        "#Exercicio 4\n",
        "nomes = ['Abigail', 'Larissa', 'Andre', 'Pedro']\n",
        "listanomes = list(filter(lambda x: x[0] == 'A', nomes))\n",
        "listanomes"
      ],
      "metadata": {
        "colab": {
          "base_uri": "https://localhost:8080/"
        },
        "id": "3NsMc1zrYnIT",
        "outputId": "d56ed48d-a4bd-4700-b0f9-1e770c5235c8"
      },
      "execution_count": 15,
      "outputs": [
        {
          "output_type": "execute_result",
          "data": {
            "text/plain": [
              "['Abigail', 'Andre']"
            ]
          },
          "metadata": {},
          "execution_count": 15
        }
      ]
    },
    {
      "cell_type": "code",
      "source": [
        "#Exercicio 5\n",
        "notas = [6, 4,7,9,10]\n",
        "notas_altas = list(filter(lambda x: x>6 , notas))\n",
        "notas_altas"
      ],
      "metadata": {
        "colab": {
          "base_uri": "https://localhost:8080/"
        },
        "id": "hJ8sEOt1Yp3Z",
        "outputId": "8af9a376-437c-498f-904a-800c4c04e26a"
      },
      "execution_count": 2,
      "outputs": [
        {
          "output_type": "execute_result",
          "data": {
            "text/plain": [
              "[7, 9, 10]"
            ]
          },
          "metadata": {},
          "execution_count": 2
        }
      ]
    },
    {
      "cell_type": "code",
      "source": [
        "#Exercicio 6\n",
        "nomes = ['Ingrid', 'Luan', 'Paulo', 'Flavio', 'Ariel','Andressa', 'Igor']\n",
        "nomescom_vogais = list(filter(lambda x: x[0]. upper() in 'AEIOU', nomes))\n",
        "nomescom_vogais"
      ],
      "metadata": {
        "colab": {
          "base_uri": "https://localhost:8080/"
        },
        "id": "dn-OsXIeir6U",
        "outputId": "0d7f1f4d-1b3c-46e2-efaa-a0eacf542d43"
      },
      "execution_count": 7,
      "outputs": [
        {
          "output_type": "execute_result",
          "data": {
            "text/plain": [
              "['Ingrid', 'Ariel', 'Andressa', 'Igor']"
            ]
          },
          "metadata": {},
          "execution_count": 7
        }
      ]
    },
    {
      "cell_type": "code",
      "source": [
        "#Exercicio 7\n",
        "lista_numeros = [2, 3, 15, 30, 23, 60, 45 ]\n",
        "numeros = list(filter(lambda x: x%3 == 0 and  x%5== 0, lista_numeros))\n",
        "numeros"
      ],
      "metadata": {
        "colab": {
          "base_uri": "https://localhost:8080/"
        },
        "id": "RRnAecWloyBt",
        "outputId": "13be72b7-34a8-40fa-f49a-97073deb8f9f"
      },
      "execution_count": 23,
      "outputs": [
        {
          "output_type": "execute_result",
          "data": {
            "text/plain": [
              "[15, 30, 60, 45]"
            ]
          },
          "metadata": {},
          "execution_count": 23
        }
      ]
    },
    {
      "cell_type": "code",
      "source": [
        "#Exercicio 8\n",
        "nomes = ['Deus', 'lucas', 'Jose', 'Marisandra', 'Felipe','josue','carro']\n",
        "new_List = list(filter(lambda x : x[0].isupper(), nomes))\n",
        "new_List\n"
      ],
      "metadata": {
        "colab": {
          "base_uri": "https://localhost:8080/"
        },
        "id": "YF-S_R_lq0vG",
        "outputId": "12b737e8-c327-47dc-b046-4e7f03b7d8dc"
      },
      "execution_count": 34,
      "outputs": [
        {
          "output_type": "execute_result",
          "data": {
            "text/plain": [
              "['Deus', 'Jose', 'Marisandra', 'Felipe']"
            ]
          },
          "metadata": {},
          "execution_count": 34
        }
      ]
    },
    {
      "cell_type": "code",
      "source": [],
      "metadata": {
        "id": "cxVtFuYTEC0p"
      },
      "execution_count": null,
      "outputs": []
    }
  ]
}