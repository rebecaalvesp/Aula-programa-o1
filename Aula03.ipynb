{
  "nbformat": 4,
  "nbformat_minor": 0,
  "metadata": {
    "colab": {
      "provenance": [],
      "authorship_tag": "ABX9TyNDGXcn+m8JGRZn+w4g2WQN",
      "include_colab_link": true
    },
    "kernelspec": {
      "name": "python3",
      "display_name": "Python 3"
    },
    "language_info": {
      "name": "python"
    }
  },
  "cells": [
    {
      "cell_type": "markdown",
      "metadata": {
        "id": "view-in-github",
        "colab_type": "text"
      },
      "source": [
        "<a href=\"https://colab.research.google.com/github/rebecaalvesp/Aula-programa-o1/blob/main/Aula03.ipynb\" target=\"_parent\"><img src=\"https://colab.research.google.com/assets/colab-badge.svg\" alt=\"Open In Colab\"/></a>"
      ]
    },
    {
      "cell_type": "code",
      "execution_count": 1,
      "metadata": {
        "colab": {
          "base_uri": "https://localhost:8080/"
        },
        "id": "Zj-cpsF0npY8",
        "outputId": "048c51cc-9044-4bd0-ca63-83300f2cd579"
      },
      "outputs": [
        {
          "output_type": "stream",
          "name": "stdout",
          "text": [
            "True\n",
            "True\n",
            "True\n",
            "True\n",
            "False\n"
          ]
        }
      ],
      "source": [
        "#Tipos booleanos\n",
        "print(100 ==(50+50))\n",
        "print(100 >=(50+50))\n",
        "print(100 > (50+0))\n",
        "print(100 <=(50+50))\n",
        "print(100!=(50+50))"
      ]
    },
    {
      "cell_type": "code",
      "source": [
        "#Se a idade for maior ou igual a 16, exiba: pode tirar habilitaçaõ\n",
        "idade= int(input('Digite sua idade'))\n",
        "if(idade >= 16):\n",
        "    print('Pode tirar habilitação')\n",
        "else:\n",
        "  print('ainda não,filé')\n"
      ],
      "metadata": {
        "colab": {
          "base_uri": "https://localhost:8080/"
        },
        "id": "i0az72AgpzV9",
        "outputId": "00ce08e4-7bf1-42c6-9121-ecda5b47d149"
      },
      "execution_count": 4,
      "outputs": [
        {
          "output_type": "stream",
          "name": "stdout",
          "text": [
            "Digite sua idade17\n",
            "Pode tirar habilitação\n"
          ]
        }
      ]
    },
    {
      "cell_type": "code",
      "source": [
        "#Se for sexo feminino \"F\", e tiver 55 anos ou mais,pode se aponsentar\n",
        "#Se for sexo masculino \"M\",só se aposenta com 60 anos de idade\n",
        "sexo = \"M\"\n",
        "idade = 68\n",
        "if(sexo == \"F\" and idade >= 55):\n",
        "  print(\"Pode se aposentar\")\n",
        "elif(sexo == \"M\" and idade >=60):\n",
        "  print(\"Pode se aposentar\")\n",
        "else:\n",
        "  print(\"Ainda não pode\")"
      ],
      "metadata": {
        "colab": {
          "base_uri": "https://localhost:8080/"
        },
        "id": "D5QQdVwIrOng",
        "outputId": "bd7a66d2-31f2-4323-dd69-930d9141e5f8"
      },
      "execution_count": 8,
      "outputs": [
        {
          "output_type": "stream",
          "name": "stdout",
          "text": [
            "Pode se aposentar\n"
          ]
        }
      ]
    },
    {
      "cell_type": "code",
      "source": [
        "#Versão II\n",
        "\n",
        "sexo= input('insira o sexo, m (masculino) ou f (feminino): ')\n",
        "idade= int(input('insira a idade:'))\n",
        "if((sexo == 'f' and idade >=55) or (sexo == 'm' and idade >=60)):\n",
        "  print('Pode se aposentar')\n",
        "else:\n",
        "  print('Ainda não pode')  \n"
      ],
      "metadata": {
        "colab": {
          "base_uri": "https://localhost:8080/"
        },
        "id": "_rpVb2oRvArg",
        "outputId": "a3836a3a-bd82-4b5d-c5c3-ef4a56af021f"
      },
      "execution_count": 9,
      "outputs": [
        {
          "output_type": "stream",
          "name": "stdout",
          "text": [
            "insira o sexo, m (masculino) ou f (feminino): \n",
            "insira a idade:56\n",
            "Ainda não pode\n"
          ]
        }
      ]
    },
    {
      "cell_type": "code",
      "source": [
        "#Solicite três números A,B e C\n",
        "#Imprima na tela se A+B é menor que C\n",
        "a = int(input('Digite o primeiro num:'))\n",
        "b = int(input('Digite o segundo num:'))\n",
        "c = int(input('Digite o terceiro num:'))\n",
        "if(a+b < c):\n",
        "  print('É menor')\n",
        "else: \n",
        "  print('Não é menor')"
      ],
      "metadata": {
        "colab": {
          "base_uri": "https://localhost:8080/"
        },
        "id": "GMdCW0T5xJp4",
        "outputId": "17391554-6d11-4e83-af0f-5604391c4323"
      },
      "execution_count": 12,
      "outputs": [
        {
          "output_type": "stream",
          "name": "stdout",
          "text": [
            "Digite o primeiro num:5\n",
            "Digite o segundo num:8\n",
            "Digite o terceiro num:586\n",
            "É menor\n"
          ]
        }
      ]
    },
    {
      "cell_type": "code",
      "source": [
        "\n"
      ],
      "metadata": {
        "id": "D0-stziaze3w"
      },
      "execution_count": null,
      "outputs": []
    }
  ]
}